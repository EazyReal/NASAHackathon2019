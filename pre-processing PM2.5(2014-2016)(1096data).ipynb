{
 "cells": [
  {
   "cell_type": "code",
   "execution_count": 8,
   "metadata": {},
   "outputs": [],
   "source": [
    "import pandas as pd\n",
    "AOD  = pd.read_csv('./data/AOD.csv')\n",
    "PM_raw = [0, 0, 0]\n",
    "PM_raw[0] = pd.read_csv('./data/103年中壢站_20170317.csv')\n",
    "PM_raw[1] = pd.read_csv('./data/104年中壢站_20160323.csv')\n",
    "PM_raw[2] = pd.read_csv('./data/105年中壢站_20170217.csv')\n",
    "#PM18_raw = pd.read_csv('./data/107年中壢站_20190315_utf16.csv', encoding = 'utf-16')\n"
   ]
  },
  {
   "cell_type": "code",
   "execution_count": 25,
   "metadata": {},
   "outputs": [],
   "source": [
    "import math\n",
    "\n",
    "#PM = [0, 0, 0]\n",
    "PMd = {}\n",
    "\n",
    "for kase in range(3):\n",
    "    l_PM = len(PM_raw[kase]) \n",
    "    for i in range(l_PM) :\n",
    "        if (PM_raw[kase][\"測項\"][i] == \"PM2.5\") & str(PM_raw[kase][\"12\"][i]).isdigit() :\n",
    "            PMd[PM_raw[kase][\"日期\"][i]] = PM_raw[kase][\"12\"][i]"
   ]
  },
  {
   "cell_type": "code",
   "execution_count": 26,
   "metadata": {},
   "outputs": [
    {
     "data": {
      "text/plain": [
       "1072"
      ]
     },
     "execution_count": 26,
     "metadata": {},
     "output_type": "execute_result"
    }
   ],
   "source": [
    "len(PMd)"
   ]
  },
  {
   "cell_type": "code",
   "execution_count": 28,
   "metadata": {},
   "outputs": [],
   "source": [
    "import csv\n",
    "csv_file = \"./data/PM2.5_all.csv\"\n",
    "#csv_columns = ['date', '12AM PM2.5']\n",
    "#csv_data = [{'date': key , '12AM PM2.5':PM25[key] } for key in PM25_18]\n",
    "\n",
    "try:\n",
    "    with open(csv_file, 'w') as csvfile:\n",
    "        w = csv.writer(csvfile)\n",
    "        w.writerow(['date','PM2.5'])\n",
    "        for key, val in PMd.items():\n",
    "            w.writerow([key, val])\n",
    "        \n",
    "except IOError:\n",
    "    print(\"I/O error\") "
   ]
  },
  {
   "cell_type": "code",
   "execution_count": null,
   "metadata": {},
   "outputs": [],
   "source": []
  }
 ],
 "metadata": {
  "kernelspec": {
   "display_name": "Python 3",
   "language": "python",
   "name": "python3"
  },
  "language_info": {
   "codemirror_mode": {
    "name": "ipython",
    "version": 3
   },
   "file_extension": ".py",
   "mimetype": "text/x-python",
   "name": "python",
   "nbconvert_exporter": "python",
   "pygments_lexer": "ipython3",
   "version": "3.7.4"
  }
 },
 "nbformat": 4,
 "nbformat_minor": 2
}
