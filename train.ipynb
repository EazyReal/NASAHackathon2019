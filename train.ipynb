{
 "cells": [
  {
   "cell_type": "code",
   "execution_count": 100,
   "metadata": {},
   "outputs": [],
   "source": [
    "import pandas as pd\n",
    "import math\n",
    "import csv"
   ]
  },
  {
   "cell_type": "code",
   "execution_count": 101,
   "metadata": {},
   "outputs": [],
   "source": [
    "path = './data_tp/'\n",
    "AODc = pd.read_csv(path+'AOD.csv')\n",
    "PMc = pd.read_csv(path+'PM2.5_all.csv')"
   ]
  },
  {
   "cell_type": "code",
   "execution_count": 102,
   "metadata": {},
   "outputs": [],
   "source": [
    "AODd = { AODc[\"date\"][i] : AODc[\"data\"][i][1:-1].split(', ') for i in range(AODc.shape[0]) }\n",
    "for key in AODd:\n",
    "    AODd[key] = [float( AODd[key][x]) for x in range(len(AODd[key]))] \n",
    "PMd = {PMc[\"date\"][i] : float(PMc[\"PM2.5\"][i]) for i in range(PMc.shape[0])}\n",
    "\n",
    "#AODd = {date : [features]}\n",
    "#PMd = {date : PM2.5@12pm}"
   ]
  },
  {
   "cell_type": "code",
   "execution_count": 103,
   "metadata": {},
   "outputs": [],
   "source": [
    "X = []\n",
    "y = []\n",
    "\n",
    "for k in AODd:\n",
    "    if k in PMd:\n",
    "        X.append(AODd[k])\n",
    "        y.append(PMd[k])\n",
    "    "
   ]
  },
  {
   "cell_type": "code",
   "execution_count": 104,
   "metadata": {},
   "outputs": [
    {
     "data": {
      "text/plain": [
       "576"
      ]
     },
     "execution_count": 104,
     "metadata": {},
     "output_type": "execute_result"
    }
   ],
   "source": [
    "len(X)"
   ]
  },
  {
   "cell_type": "code",
   "execution_count": 105,
   "metadata": {},
   "outputs": [
    {
     "name": "stdout",
     "output_type": "stream",
     "text": [
      "(576, 38)\n",
      "(576,)\n"
     ]
    },
    {
     "data": {
      "text/plain": [
       "LinearRegression(copy_X=True, fit_intercept=True, n_jobs=None, normalize=False)"
      ]
     },
     "execution_count": 105,
     "metadata": {},
     "output_type": "execute_result"
    }
   ],
   "source": [
    "import numpy as np\n",
    "import matplotlib.pyplot as plt\n",
    "from sklearn.linear_model import LinearRegression\n",
    "from sklearn.model_selection import train_test_split \n",
    "\n",
    "\n",
    "X = np.asarray(X, dtype=np.float32)\n",
    "#print(X.shape)\n",
    "#X.reshape(-1, X.shape[0])\n",
    "print(X.shape)\n",
    "y = np.asarray(y, dtype=np.float32)\n",
    "print(y.shape)\n",
    "X_train, X_test, y_train, y_test = train_test_split(X, y, test_size=0.2, random_state=0)\n",
    "\n",
    "model = LinearRegression()\n",
    "model.fit(X, y)"
   ]
  },
  {
   "cell_type": "code",
   "execution_count": 106,
   "metadata": {},
   "outputs": [
    {
     "name": "stdout",
     "output_type": "stream",
     "text": [
      "0.5395696836596655\n"
     ]
    }
   ],
   "source": [
    "r_sq = model.score(X, y)\n",
    "print(r_sq)"
   ]
  },
  {
   "cell_type": "code",
   "execution_count": 108,
   "metadata": {},
   "outputs": [
    {
     "data": {
      "text/plain": [
       "array([ 3.36093354e+00, -8.70689106e+00, -4.98759699e+00, -1.39064728e+02,\n",
       "        4.81518677e+02,  1.58627949e+01, -6.09708008e+02, -2.64280304e+02,\n",
       "       -1.54929337e+02, -8.46729431e+01, -7.60400295e-01, -1.45099243e+02,\n",
       "       -1.22962456e+02,  3.01127411e+02,  1.87292328e+01, -1.41671257e+01,\n",
       "        9.43958759e-04, -7.93389320e+00,  0.00000000e+00,  0.00000000e+00,\n",
       "       -2.53420520e+00,  7.37782431e+00, -1.35253060e+00,  0.00000000e+00,\n",
       "        0.00000000e+00,  0.00000000e+00,  0.00000000e+00,  0.00000000e+00,\n",
       "        0.00000000e+00,  0.00000000e+00,  9.76683807e+00, -4.59541750e+00,\n",
       "       -5.55706215e+00,  1.34128046e+00, -9.96624827e-02,  9.51182266e+04,\n",
       "        6.24165535e-02,  5.17616272e-02], dtype=float32)"
      ]
     },
     "execution_count": 108,
     "metadata": {},
     "output_type": "execute_result"
    }
   ],
   "source": [
    "model.coef_"
   ]
  },
  {
   "cell_type": "code",
   "execution_count": null,
   "metadata": {},
   "outputs": [],
   "source": []
  },
  {
   "cell_type": "code",
   "execution_count": null,
   "metadata": {},
   "outputs": [],
   "source": []
  },
  {
   "cell_type": "code",
   "execution_count": null,
   "metadata": {},
   "outputs": [],
   "source": []
  },
  {
   "cell_type": "code",
   "execution_count": 109,
   "metadata": {},
   "outputs": [],
   "source": [
    "#0.54 104-108\n",
    "#0.45 105-106"
   ]
  },
  {
   "cell_type": "code",
   "execution_count": null,
   "metadata": {},
   "outputs": [],
   "source": []
  }
 ],
 "metadata": {
  "kernelspec": {
   "display_name": "Python 3",
   "language": "python",
   "name": "python3"
  },
  "language_info": {
   "codemirror_mode": {
    "name": "ipython",
    "version": 3
   },
   "file_extension": ".py",
   "mimetype": "text/x-python",
   "name": "python",
   "nbconvert_exporter": "python",
   "pygments_lexer": "ipython3",
   "version": "3.7.4"
  }
 },
 "nbformat": 4,
 "nbformat_minor": 2
}
