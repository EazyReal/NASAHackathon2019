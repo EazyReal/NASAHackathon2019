{
 "cells": [
  {
   "cell_type": "code",
   "execution_count": 39,
   "metadata": {},
   "outputs": [],
   "source": [
    "import pandas as pd\n",
    "import math\n",
    "import csv\n",
    "\n",
    "k = 4\n",
    "PM_raw = [0]*k\n",
    "path = './data_tp/'\n",
    "#print(PM_raw)\n",
    "\n",
    "for i in range(k):\n",
    "    PM_raw[i] = pd.read_csv('./data_tp/'+ str(104+i) + '年板橋站_utf8.csv')\n",
    "    #print(i)\n",
    "#PM18_raw = pd.read_csv('./data/107年中壢站_20190315_utf16.csv', encoding = 'utf-16')\n"
   ]
  },
  {
   "cell_type": "code",
   "execution_count": 40,
   "metadata": {},
   "outputs": [],
   "source": [
    "PMd = {}\n",
    "\n",
    "for kase in range(k):\n",
    "    l_PM = len(PM_raw[kase]) \n",
    "    for i in range(l_PM) :\n",
    "        if (PM_raw[kase][\"測項\"][i] == \"PM2.5\") & str(PM_raw[kase][\"12\"][i]).isdigit() :\n",
    "            PMd[PM_raw[kase][\"日期\"][i]] = PM_raw[kase][\"12\"][i]"
   ]
  },
  {
   "cell_type": "code",
   "execution_count": 41,
   "metadata": {},
   "outputs": [
    {
     "data": {
      "text/plain": [
       "1401"
      ]
     },
     "execution_count": 41,
     "metadata": {},
     "output_type": "execute_result"
    }
   ],
   "source": [
    "len(PMd)"
   ]
  },
  {
   "cell_type": "code",
   "execution_count": 42,
   "metadata": {},
   "outputs": [],
   "source": [
    "import csv\n",
    "csv_file = path+\"PM2.5_all.csv\"\n",
    "#csv_columns = ['date', '12AM PM2.5']\n",
    "#csv_data = [{'date': key , '12AM PM2.5':PM25[key] } for key in PM25_18]\n",
    "\n",
    "try:\n",
    "    with open(csv_file, 'w') as csvfile:\n",
    "        w = csv.writer(csvfile)\n",
    "        w.writerow(['date','PM2.5'])\n",
    "        for key, val in PMd.items():\n",
    "            w.writerow([key, val])\n",
    "        \n",
    "except IOError:\n",
    "    print(\"I/O error\") "
   ]
  },
  {
   "cell_type": "code",
   "execution_count": null,
   "metadata": {},
   "outputs": [],
   "source": []
  },
  {
   "cell_type": "code",
   "execution_count": null,
   "metadata": {},
   "outputs": [],
   "source": []
  }
 ],
 "metadata": {
  "kernelspec": {
   "display_name": "Python 3",
   "language": "python",
   "name": "python3"
  },
  "language_info": {
   "codemirror_mode": {
    "name": "ipython",
    "version": 3
   },
   "file_extension": ".py",
   "mimetype": "text/x-python",
   "name": "python",
   "nbconvert_exporter": "python",
   "pygments_lexer": "ipython3",
   "version": "3.7.4"
  }
 },
 "nbformat": 4,
 "nbformat_minor": 2
}
