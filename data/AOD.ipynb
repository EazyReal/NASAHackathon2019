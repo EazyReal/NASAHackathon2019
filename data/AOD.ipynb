{
  "nbformat": 4,
  "nbformat_minor": 0,
  "metadata": {
    "colab": {
      "name": "AOD.ipynb",
      "provenance": []
    },
    "kernelspec": {
      "name": "python3",
      "display_name": "Python 3"
    }
  },
  "cells": [
    {
      "cell_type": "code",
      "metadata": {
        "id": "huC8PVxWv7hJ",
        "colab_type": "code",
        "colab": {
          "base_uri": "https://localhost:8080/",
          "height": 122
        },
        "outputId": "970716aa-42f8-41e2-aacd-f0e1c948d366"
      },
      "source": [
        "from google.colab import drive\n",
        "drive.mount('/content/gdrive')"
      ],
      "execution_count": 1,
      "outputs": [
        {
          "output_type": "stream",
          "text": [
            "Go to this URL in a browser: https://accounts.google.com/o/oauth2/auth?client_id=947318989803-6bn6qk8qdgf4n4g3pfee6491hc0brc4i.apps.googleusercontent.com&redirect_uri=urn%3Aietf%3Awg%3Aoauth%3A2.0%3Aoob&scope=email%20https%3A%2F%2Fwww.googleapis.com%2Fauth%2Fdocs.test%20https%3A%2F%2Fwww.googleapis.com%2Fauth%2Fdrive%20https%3A%2F%2Fwww.googleapis.com%2Fauth%2Fdrive.photos.readonly%20https%3A%2F%2Fwww.googleapis.com%2Fauth%2Fpeopleapi.readonly&response_type=code\n",
            "\n",
            "Enter your authorization code:\n",
            "··········\n",
            "Mounted at /content/gdrive\n"
          ],
          "name": "stdout"
        }
      ]
    },
    {
      "cell_type": "code",
      "metadata": {
        "id": "Y94mr4yNwANe",
        "colab_type": "code",
        "colab": {}
      },
      "source": [
        "import pandas as pd\n",
        "AOD_raw  = pd.read_csv('/content/gdrive/My Drive/NASA/taiwan.csv') #, encoding=\"utf-8\"\n",
        "PM25_18 = pd.read_csv('/content/gdrive/My Drive/NASA/PM25_18.csv')"
      ],
      "execution_count": 0,
      "outputs": []
    },
    {
      "cell_type": "code",
      "metadata": {
        "id": "5shoTVfLwmz9",
        "colab_type": "code",
        "colab": {
          "base_uri": "https://localhost:8080/",
          "height": 34
        },
        "outputId": "6db7fa41-513c-4a7c-d11b-2d41df4e4538"
      },
      "source": [
        "AOD_raw.shape"
      ],
      "execution_count": 69,
      "outputs": [
        {
          "output_type": "execute_result",
          "data": {
            "text/plain": [
              "(1296, 1)"
            ]
          },
          "metadata": {
            "tags": []
          },
          "execution_count": 69
        }
      ]
    },
    {
      "cell_type": "code",
      "metadata": {
        "id": "fMK6T40YxEuj",
        "colab_type": "code",
        "colab": {
          "base_uri": "https://localhost:8080/",
          "height": 34
        },
        "outputId": "c0f8106f-0630-4684-f3ea-2d938075b7d9"
      },
      "source": [
        "AOD_raw.columns"
      ],
      "execution_count": 70,
      "outputs": [
        {
          "output_type": "execute_result",
          "data": {
            "text/plain": [
              "Index(['AERONET Version 3; '], dtype='object')"
            ]
          },
          "metadata": {
            "tags": []
          },
          "execution_count": 70
        }
      ]
    },
    {
      "cell_type": "code",
      "metadata": {
        "id": "WMltnYT_wr-_",
        "colab_type": "code",
        "colab": {}
      },
      "source": [
        "AOD = [AOD_raw['AERONET Version 3; '][i].split(',') for i in range(AOD_raw.shape[0])]\n",
        "#AOD[5]"
      ],
      "execution_count": 0,
      "outputs": []
    },
    {
      "cell_type": "markdown",
      "metadata": {
        "id": "ipVwpWvt5Ge3",
        "colab_type": "text"
      },
      "source": [
        ""
      ]
    },
    {
      "cell_type": "code",
      "metadata": {
        "id": "_YfuqQwcw_3J",
        "colab_type": "code",
        "colab": {}
      },
      "source": [
        "#AOD[5] = description AOD[1257] = 2018 5 15 AOD = AOD[1255:] 2018 5 12, AOE :-6"
      ],
      "execution_count": 0,
      "outputs": []
    },
    {
      "cell_type": "code",
      "metadata": {
        "id": "7Zw-9fx9xL7m",
        "colab_type": "code",
        "colab": {}
      },
      "source": [
        "AOD18L = AOD[1255:] #0=location 1=date 2=time 3=dayofyear 37(4:40), all82, 35, 6\n",
        "#AOD18[0][4:40]\n",
        "AOD18 = {}\n",
        "for i in range(len(AOD18L)):\n",
        "  day = AOD18L[i][1][0:2]\n",
        "  #print(day)\n",
        "  month = AOD18L[i][1][3:5]\n",
        "  year = AOD18L[i][1][6:10]\n",
        "  date = str(year) + '/' + str(month) + '/' + str(day)\n",
        "  AOD18[date] = [float(AOD18L[i][k]) for k in range(4, 40)]"
      ],
      "execution_count": 0,
      "outputs": []
    },
    {
      "cell_type": "code",
      "metadata": {
        "id": "Q-uIdc2Lxm0x",
        "colab_type": "code",
        "colab": {}
      },
      "source": [
        "#AOD18['2018/05/12'] "
      ],
      "execution_count": 0,
      "outputs": []
    },
    {
      "cell_type": "code",
      "metadata": {
        "id": "ft4jJU3N4cll",
        "colab_type": "code",
        "colab": {}
      },
      "source": [
        "n_feature = 36\n",
        "avgs = []\n",
        "for i in range(n_feature):\n",
        "  summation = 0.0\n",
        "  cnt = 0.0\n",
        "  for key in AOD18:\n",
        "    if not AOD18[key][i] == -999.:\n",
        "      cnt += 1\n",
        "      summation +=  AOD18[key][i]\n",
        "  avg = summation/cnt if cnt != 0 else 0\n",
        "  avgs.append(avg)\n",
        "  for key in AOD18:\n",
        "    if AOD18[key][i] == -999.:\n",
        "      AOD18[key][i] = avg\n",
        "  "
      ],
      "execution_count": 0,
      "outputs": []
    },
    {
      "cell_type": "code",
      "metadata": {
        "id": "gLnqlzHVAQvg",
        "colab_type": "code",
        "colab": {}
      },
      "source": [
        "X = []\n",
        "y = []\n",
        "\n",
        "for key in AOD18:\n",
        "  for i in range(PM25_18.shape[0]):\n",
        "    #if str(PM25_18[\"date\"][i]) == '2018/5/12':\n",
        "    #  print(PM25_18[\"date\"][i])\n",
        "    if PM25_18[\"date\"][i] == key:\n",
        "      X.append(AOD18[key])\n",
        "      y.append(PM25_18[\"avg PM2.5\"][i])\n"
      ],
      "execution_count": 0,
      "outputs": []
    },
    {
      "cell_type": "code",
      "metadata": {
        "id": "h4MG8qanAUZz",
        "colab_type": "code",
        "colab": {
          "base_uri": "https://localhost:8080/",
          "height": 34
        },
        "outputId": "cd66d5eb-70e9-46b9-e818-378446633991"
      },
      "source": [
        "len(X)"
      ],
      "execution_count": 134,
      "outputs": [
        {
          "output_type": "execute_result",
          "data": {
            "text/plain": [
              "1"
            ]
          },
          "metadata": {
            "tags": []
          },
          "execution_count": 134
        }
      ]
    },
    {
      "cell_type": "code",
      "metadata": {
        "id": "zMZ66SV4B65N",
        "colab_type": "code",
        "colab": {}
      },
      "source": [
        ""
      ],
      "execution_count": 0,
      "outputs": []
    }
  ]
}